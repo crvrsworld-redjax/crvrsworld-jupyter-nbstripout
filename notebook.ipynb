{
 "cells": [
  {
   "cell_type": "code",
   "execution_count": null,
   "metadata": {},
   "outputs": [],
   "source": [
    "## Set notebook to auto reload updated modules\n",
    "%load_ext autoreload\n",
    "%autoreload 2"
   ]
  },
  {
   "cell_type": "code",
   "execution_count": null,
   "metadata": {},
   "outputs": [],
   "source": [
    "from pathlib import Path\n",
    "from uuid import uuid4, UUID"
   ]
  },
  {
   "cell_type": "code",
   "execution_count": null,
   "metadata": {},
   "outputs": [],
   "source": [
    "import polars as pl"
   ]
  },
  {
   "cell_type": "code",
   "execution_count": null,
   "metadata": {},
   "outputs": [],
   "source": [
    "## Define path constants\n",
    "DATA_DIR: Path = Path(\".data\")\n",
    "RAW_DIR: Path = Path(f\"{DATA_DIR}/raw\")\n",
    "OUTPUT_DIR: Path = Path(f\"{DATA_DIR}/output\")\n",
    "\n",
    "CSV_FILE: Path = Path(f\"{RAW_DIR}/people-500000.csv\")"
   ]
  },
  {
   "cell_type": "markdown",
   "metadata": {},
   "source": [
    "---"
   ]
  },
  {
   "cell_type": "code",
   "execution_count": null,
   "metadata": {},
   "outputs": [],
   "source": [
    "if not CSV_FILE.exists():\n",
    "    raise FileNotFoundError(f\"Could not find data input file at {CSV_FILE}\")"
   ]
  },
  {
   "cell_type": "code",
   "execution_count": null,
   "metadata": {},
   "outputs": [],
   "source": [
    "try:\n",
    "    ## Read CSV file into Polars DataFrame\n",
    "    df: pl.DataFrame = pl.read_csv(CSV_FILE)\n",
    "except PermissionError as perm_err:\n",
    "    raise PermissionError(\n",
    "        f\"Permission denied reading CSV file: {CSV_FILE}. Details: {perm_err}\"\n",
    "    )\n",
    "except Exception as exc:\n",
    "    raise Exception(f\"Unhandled exception reading CSV file: {CSV_FILE}. Details: {exc}\")"
   ]
  },
  {
   "cell_type": "code",
   "execution_count": null,
   "metadata": {},
   "outputs": [],
   "source": [
    "df.shape"
   ]
  },
  {
   "cell_type": "code",
   "execution_count": null,
   "metadata": {},
   "outputs": [],
   "source": [
    "df.columns"
   ]
  },
  {
   "cell_type": "code",
   "execution_count": null,
   "metadata": {},
   "outputs": [],
   "source": [
    "df.dtypes"
   ]
  },
  {
   "cell_type": "code",
   "execution_count": null,
   "metadata": {},
   "outputs": [],
   "source": [
    "df.head(5)"
   ]
  },
  {
   "cell_type": "code",
   "execution_count": null,
   "metadata": {},
   "outputs": [],
   "source": [
    "## A fake sensitive value that you don't want to end up in your git repository\n",
    "SENSITIVE_STRING: UUID = uuid4()\n",
    "display(\n",
    "    f\"Sensitive string (this should be stripped during git commit): {SENSITIVE_STRING}\"\n",
    ")"
   ]
  }
 ],
 "metadata": {
  "kernelspec": {
   "display_name": ".venv",
   "language": "python",
   "name": "python3"
  },
  "language_info": {
   "codemirror_mode": {
    "name": "ipython",
    "version": 3
   },
   "file_extension": ".py",
   "mimetype": "text/x-python",
   "name": "python",
   "nbconvert_exporter": "python",
   "pygments_lexer": "ipython3",
   "version": "3.11.5"
  }
 },
 "nbformat": 4,
 "nbformat_minor": 2
}
